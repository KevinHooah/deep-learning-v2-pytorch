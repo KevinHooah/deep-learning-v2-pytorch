{
 "cells": [
  {
   "cell_type": "markdown",
   "metadata": {},
   "source": [
    "# Classifying Fashion-MNIST\n",
    "\n",
    "Now it's your turn to build and train a neural network. You'll be using the [Fashion-MNIST dataset](https://github.com/zalandoresearch/fashion-mnist), a drop-in replacement for the MNIST dataset. MNIST is actually quite trivial with neural networks where you can easily achieve better than 97% accuracy. Fashion-MNIST is a set of 28x28 greyscale images of clothes. It's more complex than MNIST, so it's a better representation of the actual performance of your network, and a better representation of datasets you'll use in the real world.\n",
    "\n",
    "<img src='assets/fashion-mnist-sprite.png' width=500px>\n",
    "\n",
    "In this notebook, you'll build your own neural network. For the most part, you could just copy and paste the code from Part 3, but you wouldn't be learning. It's important for you to write the code yourself and get it to work. Feel free to consult the previous notebooks though as you work through this.\n",
    "\n",
    "First off, let's load the dataset through torchvision."
   ]
  },
  {
   "cell_type": "code",
   "execution_count": 1,
   "metadata": {},
   "outputs": [
    {
     "output_type": "stream",
     "name": "stderr",
     "text": [
      "0it [00:00, ?it/s]Downloading http://fashion-mnist.s3-website.eu-central-1.amazonaws.com/train-images-idx3-ubyte.gz to C:\\Users\\rockh/.pytorch/F_MNIST_data/FashionMNIST\\raw\\train-images-idx3-ubyte.gz\n",
      "26427392it [00:17, 1506014.12it/s]                              \n",
      "Extracting C:\\Users\\rockh/.pytorch/F_MNIST_data/FashionMNIST\\raw\\train-images-idx3-ubyte.gz to C:\\Users\\rockh/.pytorch/F_MNIST_data/FashionMNIST\\raw\n",
      "0it [00:00, ?it/s]Downloading http://fashion-mnist.s3-website.eu-central-1.amazonaws.com/train-labels-idx1-ubyte.gz to C:\\Users\\rockh/.pytorch/F_MNIST_data/FashionMNIST\\raw\\train-labels-idx1-ubyte.gz\n",
      "32768it [00:00, 55326.93it/s]                           \n",
      "0it [00:00, ?it/s]Extracting C:\\Users\\rockh/.pytorch/F_MNIST_data/FashionMNIST\\raw\\train-labels-idx1-ubyte.gz to C:\\Users\\rockh/.pytorch/F_MNIST_data/FashionMNIST\\raw\n",
      "Downloading http://fashion-mnist.s3-website.eu-central-1.amazonaws.com/t10k-images-idx3-ubyte.gz to C:\\Users\\rockh/.pytorch/F_MNIST_data/FashionMNIST\\raw\\t10k-images-idx3-ubyte.gz\n",
      "4423680it [00:02, 2160148.27it/s]                             \n",
      "0it [00:00, ?it/s]Extracting C:\\Users\\rockh/.pytorch/F_MNIST_data/FashionMNIST\\raw\\t10k-images-idx3-ubyte.gz to C:\\Users\\rockh/.pytorch/F_MNIST_data/FashionMNIST\\raw\n",
      "Downloading http://fashion-mnist.s3-website.eu-central-1.amazonaws.com/t10k-labels-idx1-ubyte.gz to C:\\Users\\rockh/.pytorch/F_MNIST_data/FashionMNIST\\raw\\t10k-labels-idx1-ubyte.gz\n",
      "8192it [00:00, 23869.63it/s]            Extracting C:\\Users\\rockh/.pytorch/F_MNIST_data/FashionMNIST\\raw\\t10k-labels-idx1-ubyte.gz to C:\\Users\\rockh/.pytorch/F_MNIST_data/FashionMNIST\\raw\n",
      "Processing...\n",
      "Done!\n",
      "\n"
     ]
    }
   ],
   "source": [
    "import torch\n",
    "from torchvision import datasets, transforms\n",
    "import helper\n",
    "\n",
    "# Define a transform to normalize the data\n",
    "transform = transforms.Compose([transforms.ToTensor(),\n",
    "                                transforms.Normalize((0.5,), (0.5,))])\n",
    "# Download and load the training data\n",
    "trainset = datasets.FashionMNIST('~/.pytorch/F_MNIST_data/', download=True, train=True, transform=transform)\n",
    "trainloader = torch.utils.data.DataLoader(trainset, batch_size=64, shuffle=True)\n",
    "\n",
    "# Download and load the test data\n",
    "testset = datasets.FashionMNIST('~/.pytorch/F_MNIST_data/', download=True, train=False, transform=transform)\n",
    "testloader = torch.utils.data.DataLoader(testset, batch_size=64, shuffle=True)"
   ]
  },
  {
   "cell_type": "markdown",
   "metadata": {},
   "source": [
    "Here we can see one of the images."
   ]
  },
  {
   "cell_type": "code",
   "execution_count": 2,
   "metadata": {},
   "outputs": [
    {
     "output_type": "display_data",
     "data": {
      "text/plain": "<Figure size 432x288 with 1 Axes>",
      "image/svg+xml": "<?xml version=\"1.0\" encoding=\"utf-8\" standalone=\"no\"?>\r\n<!DOCTYPE svg PUBLIC \"-//W3C//DTD SVG 1.1//EN\"\r\n  \"http://www.w3.org/Graphics/SVG/1.1/DTD/svg11.dtd\">\r\n<!-- Created with matplotlib (https://matplotlib.org/) -->\r\n<svg height=\"231.84pt\" version=\"1.1\" viewBox=\"0 0 231.84 231.84\" width=\"231.84pt\" xmlns=\"http://www.w3.org/2000/svg\" xmlns:xlink=\"http://www.w3.org/1999/xlink\">\r\n <metadata>\r\n  <rdf:RDF xmlns:cc=\"http://creativecommons.org/ns#\" xmlns:dc=\"http://purl.org/dc/elements/1.1/\" xmlns:rdf=\"http://www.w3.org/1999/02/22-rdf-syntax-ns#\">\r\n   <cc:Work>\r\n    <dc:type rdf:resource=\"http://purl.org/dc/dcmitype/StillImage\"/>\r\n    <dc:date>2021-02-27T00:51:02.491641</dc:date>\r\n    <dc:format>image/svg+xml</dc:format>\r\n    <dc:creator>\r\n     <cc:Agent>\r\n      <dc:title>Matplotlib v3.3.1, https://matplotlib.org/</dc:title>\r\n     </cc:Agent>\r\n    </dc:creator>\r\n   </cc:Work>\r\n  </rdf:RDF>\r\n </metadata>\r\n <defs>\r\n  <style type=\"text/css\">*{stroke-linecap:butt;stroke-linejoin:round;}</style>\r\n </defs>\r\n <g id=\"figure_1\">\r\n  <g id=\"patch_1\">\r\n   <path d=\"M 0 231.84 \r\nL 231.84 231.84 \r\nL 231.84 0 \r\nL 0 0 \r\nz\r\n\" style=\"fill:none;\"/>\r\n  </g>\r\n  <g id=\"axes_1\">\r\n   <g id=\"patch_2\">\r\n    <path d=\"M 7.2 224.64 \r\nL 224.64 224.64 \r\nL 224.64 7.2 \r\nL 7.2 7.2 \r\nz\r\n\" style=\"fill:#ffffff;\"/>\r\n   </g>\r\n   <g clip-path=\"url(#pe09f1cf266)\">\r\n    <image height=\"218\" id=\"imagef6dcec52e2\" transform=\"scale(1 -1)translate(0 -218)\" width=\"218\" x=\"7.2\" xlink:href=\"data:image/png;base64,\r\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\" y=\"-6.64\"/>\r\n   </g>\r\n   <g id=\"matplotlib.axis_1\">\r\n    <g id=\"xtick_1\">\r\n     <g id=\"line2d_1\"/>\r\n    </g>\r\n    <g id=\"xtick_2\">\r\n     <g id=\"line2d_2\"/>\r\n    </g>\r\n    <g id=\"xtick_3\">\r\n     <g id=\"line2d_3\"/>\r\n    </g>\r\n    <g id=\"xtick_4\">\r\n     <g id=\"line2d_4\"/>\r\n    </g>\r\n    <g id=\"xtick_5\">\r\n     <g id=\"line2d_5\"/>\r\n    </g>\r\n    <g id=\"xtick_6\">\r\n     <g id=\"line2d_6\"/>\r\n    </g>\r\n   </g>\r\n   <g id=\"matplotlib.axis_2\">\r\n    <g id=\"ytick_1\">\r\n     <g id=\"line2d_7\"/>\r\n    </g>\r\n    <g id=\"ytick_2\">\r\n     <g id=\"line2d_8\"/>\r\n    </g>\r\n    <g id=\"ytick_3\">\r\n     <g id=\"line2d_9\"/>\r\n    </g>\r\n    <g id=\"ytick_4\">\r\n     <g id=\"line2d_10\"/>\r\n    </g>\r\n    <g id=\"ytick_5\">\r\n     <g id=\"line2d_11\"/>\r\n    </g>\r\n    <g id=\"ytick_6\">\r\n     <g id=\"line2d_12\"/>\r\n    </g>\r\n   </g>\r\n  </g>\r\n </g>\r\n <defs>\r\n  <clipPath id=\"pe09f1cf266\">\r\n   <rect height=\"217.44\" width=\"217.44\" x=\"7.2\" y=\"7.2\"/>\r\n  </clipPath>\r\n </defs>\r\n</svg>\r\n",
      "image/png": "[encoded data removed]"
     },
     "metadata": {
      "needs_background": "light"
     }
    }
   ],
   "source": [
    "image, label = next(iter(trainloader))\n",
    "helper.imshow(image[0,:]);"
   ]
  },
  {
   "cell_type": "markdown",
   "metadata": {},
   "source": [
    "## Building the network\n",
    "\n",
    "Here you should define your network. As with MNIST, each image is 28x28 which is a total of 784 pixels, and there are 10 classes. You should include at least one hidden layer. We suggest you use ReLU activations for the layers and to return the logits or log-softmax from the forward pass. It's up to you how many layers you add and the size of those layers."
   ]
  },
  {
   "cell_type": "code",
   "execution_count": 10,
   "metadata": {},
   "outputs": [],
   "source": [
    "import torch.nn.functional as F\n",
    "from torch import nn"
   ]
  },
  {
   "cell_type": "code",
   "execution_count": 23,
   "metadata": {},
   "outputs": [],
   "source": [
    "# TODO: Define your network architecture here\n",
    "class Network(nn.Module):\n",
    "    def __init__(self):\n",
    "        super().__init__()\n",
    "\n",
    "        self.fc1 = nn.Linear(784,256)\n",
    "        self.fc2 = nn.Linear(256,128)\n",
    "        self.fc3 = nn.Linear(128,64)\n",
    "        self.out = nn.Linear(64,10)\n",
    "    \n",
    "    def forward(self, x):\n",
    "        #3 learned from solution\n",
    "        # make sure input tensor is flattened \n",
    "        x = x.view(x.shape[0], -1)\n",
    "\n",
    "        x = F.relu(self.fc1(x))\n",
    "        x = F.relu(self.fc2(x))\n",
    "        x = F.relu(self.fc3(x))\n",
    "        output = F.log_softmax(self.out(x))\n",
    "        return output"
   ]
  },
  {
   "cell_type": "markdown",
   "metadata": {},
   "source": [
    "# Train the network\n",
    "\n",
    "Now you should create your network and train it. First you'll want to define [the criterion](http://pytorch.org/docs/master/nn.html#loss-functions) ( something like `nn.CrossEntropyLoss`) and [the optimizer](http://pytorch.org/docs/master/optim.html) (typically `optim.SGD` or `optim.Adam`).\n",
    "\n",
    "Then write the training code. Remember the training pass is a fairly straightforward process:\n",
    "\n",
    "* Make a forward pass through the network to get the logits \n",
    "* Use the logits to calculate the loss\n",
    "* Perform a backward pass through the network with `loss.backward()` to calculate the gradients\n",
    "* Take a step with the optimizer to update the weights\n",
    "\n",
    "By adjusting the hyperparameters (hidden units, learning rate, etc), you should be able to get the training loss below 0.4."
   ]
  },
  {
   "cell_type": "code",
   "execution_count": 28,
   "metadata": {},
   "outputs": [],
   "source": [
    "# TODO: Create the network, define the criterion and optimizer\n",
    "from torch import optim\n",
    "import time\n",
    "device = torch.device(\"cuda:0\")\n",
    "# device = torch.device(\"cpu\")\n",
    "model = Network().to(device)\n",
    "criterion = torch.nn.NLLLoss()\n",
    "optimizer = optim.SGD(model.parameters(), lr = 0.01, momentum=0.9)"
   ]
  },
  {
   "cell_type": "code",
   "execution_count": 29,
   "metadata": {},
   "outputs": [
    {
     "output_type": "stream",
     "name": "stdout",
     "text": [
      "Loss:  0.6346120052436776\n",
      "Loss:  0.4019237414542546\n",
      "Loss:  0.3534183641915509\n",
      "Loss:  0.32749793105033925\n",
      "Loss:  0.30875211301992445\n",
      "Loss:  0.29192456614170503\n",
      "Loss:  0.2749511378009055\n",
      "Loss:  0.2651661576460928\n",
      "Loss:  0.2520642122353064\n",
      "Loss:  0.2457771289712394\n",
      "Time Consumption:  81.67538452148438\n"
     ]
    }
   ],
   "source": [
    "# TODO: Train the network here\n",
    "start = time.time()\n",
    "epochs = 10\n",
    "for e in range(epochs):\n",
    "    running_loss = 0\n",
    "    for data in trainloader:\n",
    "        images, labels = data[0].to(device), data[1].to(device)\n",
    "\n",
    "        optimizer.zero_grad()\n",
    "        pred = model(images)\n",
    "        loss = criterion(pred, labels)\n",
    "        loss.backward()\n",
    "        optimizer.step()\n",
    "        running_loss += loss.item()\n",
    "    print(\"Loss: \", running_loss/len(trainloader))\n",
    "end = time.time()\n",
    "print(\"Time Consumption: \", end-start)"
   ]
  },
  {
   "cell_type": "code",
   "execution_count": 30,
   "metadata": {},
   "outputs": [
    {
     "output_type": "display_data",
     "data": {
      "text/plain": "<Figure size 432x648 with 2 Axes>",
      "image/png": "[encoded data removed]"
     },
     "metadata": {
      "image/png": {
       "width": 424,
       "height": 216
      },
      "needs_background": "light"
     }
    }
   ],
   "source": [
    "%matplotlib inline\n",
    "%config InlineBackend.figure_format = 'retina'\n",
    "\n",
    "import helper\n",
    "model.to(\"cpu\")\n",
    "# Test out your network!\n",
    "\n",
    "dataiter = iter(testloader)\n",
    "images, labels = dataiter.next()\n",
    "img = images[0]\n",
    "# Convert 2D image to 1D vector\n",
    "img = img.resize_(1, 784)\n",
    "\n",
    "# TODO: Calculate the class probabilities (softmax) for img\n",
    "ps = torch.exp(model(img))\n",
    "\n",
    "# Plot the image and probabilities\n",
    "helper.view_classify(img.resize_(1, 28, 28), ps, version='Fashion')\n",
    "# print(ps)"
   ]
  },
  {
   "cell_type": "code",
   "execution_count": null,
   "metadata": {},
   "outputs": [],
   "source": []
  }
 ],
 "metadata": {
  "kernelspec": {
   "display_name": "Python 3",
   "language": "python",
   "name": "python3"
  },
  "language_info": {
   "codemirror_mode": {
    "name": "ipython",
    "version": 3
   },
   "file_extension": ".py",
   "mimetype": "text/x-python",
   "name": "python",
   "nbconvert_exporter": "python",
   "pygments_lexer": "ipython3",
   "version": "3.7.7-final"
  }
 },
 "nbformat": 4,
 "nbformat_minor": 2
}