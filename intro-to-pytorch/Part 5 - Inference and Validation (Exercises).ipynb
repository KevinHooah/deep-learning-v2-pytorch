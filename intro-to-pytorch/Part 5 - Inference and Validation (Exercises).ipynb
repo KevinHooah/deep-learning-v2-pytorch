{
 "cells": [
  {
   "cell_type": "markdown",
   "metadata": {},
   "source": [
    "# Inference and Validation\n",
    "\n",
    "Now that you have a trained network, you can use it for making predictions. This is typically called **inference**, a term borrowed from statistics. However, neural networks have a tendency to perform *too well* on the training data and aren't able to generalize to data that hasn't been seen before. This is called **overfitting** and it impairs inference performance. To test for overfitting while training, we measure the performance on data not in the training set called the **validation** set. We avoid overfitting through regularization such as dropout while monitoring the validation performance during training. In this notebook, I'll show you how to do this in PyTorch. \n",
    "\n",
    "As usual, let's start by loading the dataset through torchvision. You'll learn more about torchvision and loading data in a later part. This time we'll be taking advantage of the test set which you can get by setting `train=False` here:\n",
    "\n",
    "```python\n",
    "testset = datasets.FashionMNIST('~/.pytorch/F_MNIST_data/', download=True, train=False, transform=transform)\n",
    "```\n",
    "\n",
    "The test set contains images just like the training set. Typically you'll see 10-20% of the original dataset held out for testing and validation with the rest being used for training."
   ]
  },
  {
   "cell_type": "code",
   "execution_count": 1,
   "metadata": {},
   "outputs": [],
   "source": [
    "import torch\n",
    "from torchvision import datasets, transforms\n",
    "\n",
    "# Define a transform to normalize the data\n",
    "transform = transforms.Compose([transforms.ToTensor(),\n",
    "                                transforms.Normalize((0.5,), (0.5,))])\n",
    "# Download and load the training data\n",
    "trainset = datasets.FashionMNIST('~/.pytorch/F_MNIST_data/', download=True, train=True, transform=transform)\n",
    "trainloader = torch.utils.data.DataLoader(trainset, batch_size=64, shuffle=True)\n",
    "\n",
    "# Download and load the test data\n",
    "testset = datasets.FashionMNIST('~/.pytorch/F_MNIST_data/', download=True, train=False, transform=transform)\n",
    "testloader = torch.utils.data.DataLoader(testset, batch_size=64, shuffle=True)"
   ]
  },
  {
   "cell_type": "markdown",
   "metadata": {},
   "source": [
    "Here I'll create a model like normal, using the same one from my solution for part 4."
   ]
  },
  {
   "cell_type": "code",
   "execution_count": 2,
   "metadata": {},
   "outputs": [],
   "source": [
    "from torch import nn, optim\n",
    "import torch.nn.functional as F\n",
    "\n",
    "class Classifier(nn.Module):\n",
    "    def __init__(self):\n",
    "        super().__init__()\n",
    "        self.fc1 = nn.Linear(784, 256)\n",
    "        self.fc2 = nn.Linear(256, 128)\n",
    "        self.fc3 = nn.Linear(128, 64)\n",
    "        self.fc4 = nn.Linear(64, 10)\n",
    "        \n",
    "    def forward(self, x):\n",
    "        # make sure input tensor is flattened\n",
    "        x = x.view(x.shape[0], -1)\n",
    "        \n",
    "        x = F.relu(self.fc1(x))\n",
    "        x = F.relu(self.fc2(x))\n",
    "        x = F.relu(self.fc3(x))\n",
    "        x = F.log_softmax(self.fc4(x), dim=1)\n",
    "        \n",
    "        return x"
   ]
  },
  {
   "cell_type": "markdown",
   "metadata": {},
   "source": [
    "The goal of validation is to measure the model's performance on data that isn't part of the training set. Performance here is up to the developer to define though. Typically this is just accuracy, the percentage of classes the network predicted correctly. Other options are [precision and recall](https://en.wikipedia.org/wiki/Precision_and_recall#Definition_(classification_context)) and top-5 error rate. We'll focus on accuracy here. First I'll do a forward pass with one batch from the test set."
   ]
  },
  {
   "cell_type": "code",
   "execution_count": 3,
   "metadata": {},
   "outputs": [
    {
     "output_type": "stream",
     "name": "stdout",
     "text": [
      "torch.Size([64, 10])\n"
     ]
    }
   ],
   "source": [
    "model = Classifier()\n",
    "\n",
    "images, labels = next(iter(testloader))\n",
    "# Get the class probabilities\n",
    "ps = torch.exp(model(images))\n",
    "# Make sure the shape is appropriate, we should get 10 class probabilities for 64 examples\n",
    "print(ps.shape)"
   ]
  },
  {
   "cell_type": "markdown",
   "metadata": {},
   "source": [
    "With the probabilities, we can get the most likely class using the `ps.topk` method. This returns the $k$ highest values. Since we just want the most likely class, we can use `ps.topk(1)`. This returns a tuple of the top-$k$ values and the top-$k$ indices. If the highest value is the fifth element, we'll get back 4 as the index."
   ]
  },
  {
   "cell_type": "code",
   "execution_count": 4,
   "metadata": {},
   "outputs": [
    {
     "output_type": "stream",
     "name": "stdout",
     "text": [
      "tensor([[2],\n        [2],\n        [2],\n        [2],\n        [2],\n        [2],\n        [2],\n        [2],\n        [2],\n        [1]])\ntensor([[0.1096],\n        [0.1095],\n        [0.1113],\n        [0.1097],\n        [0.1115],\n        [0.1101],\n        [0.1090],\n        [0.1066],\n        [0.1094],\n        [0.1079]], grad_fn=<SliceBackward>)\n"
     ]
    }
   ],
   "source": [
    "top_p, top_class = ps.topk(1, dim=1)\n",
    "# Look at the most likely classes for the first 10 examples\n",
    "print(top_class[:10,:])\n",
    "print(top_p[:10,:])"
   ]
  },
  {
   "cell_type": "markdown",
   "metadata": {},
   "source": [
    "Now we can check if the predicted classes match the labels. This is simple to do by equating `top_class` and `labels`, but we have to be careful of the shapes. Here `top_class` is a 2D tensor with shape `(64, 1)` while `labels` is 1D with shape `(64)`. To get the equality to work out the way we want, `top_class` and `labels` must have the same shape.\n",
    "\n",
    "If we do\n",
    "\n",
    "```python\n",
    "equals = top_class == labels\n",
    "```\n",
    "\n",
    "`equals` will have shape `(64, 64)`, try it yourself. What it's doing is comparing the one element in each row of `top_class` with each element in `labels` which returns 64 True/False boolean values for each row."
   ]
  },
  {
   "cell_type": "code",
   "execution_count": 7,
   "metadata": {},
   "outputs": [],
   "source": [
    "equals = top_class == labels.view(*top_class.shape)\n",
    "# equals"
   ]
  },
  {
   "cell_type": "markdown",
   "metadata": {},
   "source": [
    "Now we need to calculate the percentage of correct predictions. `equals` has binary values, either 0 or 1. This means that if we just sum up all the values and divide by the number of values, we get the percentage of correct predictions. This is the same operation as taking the mean, so we can get the accuracy with a call to `torch.mean`. If only it was that simple. If you try `torch.mean(equals)`, you'll get an error\n",
    "\n",
    "```\n",
    "RuntimeError: mean is not implemented for type torch.ByteTensor\n",
    "```\n",
    "\n",
    "This happens because `equals` has type `torch.ByteTensor` but `torch.mean` isn't implemented for tensors with that type. So we'll need to convert `equals` to a float tensor. Note that when we take `torch.mean` it returns a scalar tensor, to get the actual value as a float we'll need to do `accuracy.item()`."
   ]
  },
  {
   "cell_type": "code",
   "execution_count": 8,
   "metadata": {},
   "outputs": [
    {
     "output_type": "stream",
     "name": "stdout",
     "text": [
      "Accuracy: 7.8125%\n"
     ]
    }
   ],
   "source": [
    "accuracy = torch.mean(equals.type(torch.FloatTensor))\n",
    "print(f'Accuracy: {accuracy.item()*100}%')"
   ]
  },
  {
   "cell_type": "code",
   "execution_count": 9,
   "metadata": {},
   "outputs": [
    {
     "output_type": "execute_result",
     "data": {
      "text/plain": [
       "tensor(0.0781)"
      ]
     },
     "metadata": {},
     "execution_count": 9
    }
   ],
   "source": [
    "accuracy"
   ]
  },
  {
   "cell_type": "markdown",
   "metadata": {},
   "source": [
    "The network is untrained so it's making random guesses and we should see an accuracy around 10%. Now let's train our network and include our validation pass so we can measure how well the network is performing on the test set. Since we're not updating our parameters in the validation pass, we can speed up our code by turning off gradients using `torch.no_grad()`:\n",
    "\n",
    "```python\n",
    "# turn off gradients\n",
    "with torch.no_grad():\n",
    "    # validation pass here\n",
    "    for images, labels in testloader:\n",
    "        ...\n",
    "```\n",
    "\n",
    ">**Exercise:** Implement the validation loop below and print out the total accuracy after the loop. You can largely copy and paste the code from above, but I suggest typing it in because writing it out yourself is essential for building the skill. In general you'll always learn more by typing it rather than copy-pasting. You should be able to get an accuracy above 80%."
   ]
  },
  {
   "cell_type": "code",
   "execution_count": 23,
   "metadata": {},
   "outputs": [
    {
     "output_type": "stream",
     "name": "stdout",
     "text": [
      "Epoch: 1/30..  Training Loss: 0.516..  Test Loss: 0.463..  Test Accuracy: 0.836\n",
      "Epoch: 2/30..  Training Loss: 0.392..  Test Loss: 0.392..  Test Accuracy: 0.858\n",
      "Epoch: 3/30..  Training Loss: 0.355..  Test Loss: 0.402..  Test Accuracy: 0.861\n",
      "Epoch: 4/30..  Training Loss: 0.337..  Test Loss: 0.375..  Test Accuracy: 0.866\n",
      "Epoch: 5/30..  Training Loss: 0.317..  Test Loss: 0.362..  Test Accuracy: 0.872\n",
      "Epoch: 6/30..  Training Loss: 0.304..  Test Loss: 0.363..  Test Accuracy: 0.875\n",
      "Epoch: 7/30..  Training Loss: 0.292..  Test Loss: 0.369..  Test Accuracy: 0.872\n",
      "Epoch: 8/30..  Training Loss: 0.284..  Test Loss: 0.376..  Test Accuracy: 0.873\n",
      "Epoch: 9/30..  Training Loss: 0.273..  Test Loss: 0.370..  Test Accuracy: 0.877\n",
      "Epoch: 10/30..  Training Loss: 0.268..  Test Loss: 0.383..  Test Accuracy: 0.873\n",
      "Epoch: 11/30..  Training Loss: 0.258..  Test Loss: 0.362..  Test Accuracy: 0.875\n",
      "Epoch: 12/30..  Training Loss: 0.254..  Test Loss: 0.362..  Test Accuracy: 0.878\n",
      "Epoch: 13/30..  Training Loss: 0.250..  Test Loss: 0.372..  Test Accuracy: 0.876\n",
      "Epoch: 14/30..  Training Loss: 0.244..  Test Loss: 0.391..  Test Accuracy: 0.874\n",
      "Epoch: 15/30..  Training Loss: 0.239..  Test Loss: 0.378..  Test Accuracy: 0.880\n",
      "Epoch: 16/30..  Training Loss: 0.233..  Test Loss: 0.382..  Test Accuracy: 0.874\n",
      "Epoch: 17/30..  Training Loss: 0.225..  Test Loss: 0.376..  Test Accuracy: 0.875\n",
      "Epoch: 18/30..  Training Loss: 0.223..  Test Loss: 0.393..  Test Accuracy: 0.884\n",
      "Epoch: 19/30..  Training Loss: 0.224..  Test Loss: 0.376..  Test Accuracy: 0.882\n",
      "Epoch: 20/30..  Training Loss: 0.218..  Test Loss: 0.395..  Test Accuracy: 0.882\n",
      "Epoch: 21/30..  Training Loss: 0.214..  Test Loss: 0.400..  Test Accuracy: 0.877\n",
      "Epoch: 22/30..  Training Loss: 0.209..  Test Loss: 0.380..  Test Accuracy: 0.888\n",
      "Epoch: 23/30..  Training Loss: 0.205..  Test Loss: 0.409..  Test Accuracy: 0.879\n",
      "Epoch: 24/30..  Training Loss: 0.204..  Test Loss: 0.412..  Test Accuracy: 0.883\n",
      "Epoch: 25/30..  Training Loss: 0.201..  Test Loss: 0.398..  Test Accuracy: 0.880\n",
      "Epoch: 26/30..  Training Loss: 0.193..  Test Loss: 0.399..  Test Accuracy: 0.884\n",
      "Epoch: 27/30..  Training Loss: 0.195..  Test Loss: 0.408..  Test Accuracy: 0.882\n",
      "Epoch: 28/30..  Training Loss: 0.200..  Test Loss: 0.405..  Test Accuracy: 0.882\n",
      "Epoch: 29/30..  Training Loss: 0.184..  Test Loss: 0.448..  Test Accuracy: 0.882\n",
      "Epoch: 30/30..  Training Loss: 0.187..  Test Loss: 0.410..  Test Accuracy: 0.886\n"
     ]
    }
   ],
   "source": [
    "device = torch.device(\"cuda:0\")\n",
    "model = Classifier()\n",
    "model.to(device)\n",
    "criterion = nn.NLLLoss()\n",
    "optimizer = optim.Adam(model.parameters(), lr=0.003)\n",
    "\n",
    "epochs = 30\n",
    "steps = 0\n",
    "\n",
    "train_losses, test_losses = [], []\n",
    "for e in range(epochs):\n",
    "    running_loss = 0\n",
    "    for train_data in trainloader:\n",
    "        images, labels = train_data[0].to(device), train_data[1].to(device)\n",
    "        optimizer.zero_grad()\n",
    "        \n",
    "        log_ps = model(images)\n",
    "        loss = criterion(log_ps, labels)\n",
    "        loss.backward()\n",
    "        optimizer.step()\n",
    "        \n",
    "        running_loss += loss.item()\n",
    "\n",
    "    else:\n",
    "        test_loss = 0\n",
    "        accuracy = 0\n",
    "        ## TODO: Implement the validation pass and print out the validation accuracy\n",
    "        # model.to(\"cpu\")\n",
    "        with torch.no_grad():\n",
    "            for test_data in testloader:\n",
    "                images, labels = test_data[0].to(device), test_data[1].to(device)\n",
    "                log_ps = model(images)\n",
    "                test_loss += criterion(log_ps, labels)\n",
    "                ps = torch.exp(log_ps)\n",
    "                top_p, top_class = ps.topk(k=1, dim=1)\n",
    "                equals = top_class == labels.view(*top_class.shape)\n",
    "                accuracy += torch.mean(equals.type(torch.FloatTensor))\n",
    "\n",
    "        train_losses.append(running_loss/len(trainloader))\n",
    "        test_losses.append(test_loss/len(testloader))\n",
    "\n",
    "        print(\"Epoch: {}/{}.. \".format(e+1, epochs),\n",
    "              \"Training Loss: {:.3f}.. \".format(running_loss/len(trainloader)),\n",
    "              \"Test Loss: {:.3f}.. \".format(test_loss/len(testloader)),\n",
    "              \"Test Accuracy: {:.3f}\".format(accuracy/len(testloader)))"
   ]
  },
  {
   "cell_type": "markdown",
   "metadata": {},
   "source": [
    "## Overfitting\n",
    "\n",
    "If we look at the training and validation losses as we train the network, we can see a phenomenon known as overfitting.\n",
    "\n",
    "<img src='assets/overfitting.png' width=450px>\n",
    "\n",
    "The network learns the training set better and better, resulting in lower training losses. However, it starts having problems generalizing to data outside the training set leading to the validation loss increasing. The ultimate goal of any deep learning model is to make predictions on new data, so we should strive to get the lowest validation loss possible. One option is to use the version of the model with the lowest validation loss, here the one around 8-10 training epochs. This strategy is called *early-stopping*. In practice, you'd save the model frequently as you're training then later choose the model with the lowest validation loss.\n",
    "\n",
    "The most common method to reduce overfitting (outside of early-stopping) is *dropout*, where we randomly drop input units. This forces the network to share information between weights, increasing it's ability to generalize to new data. Adding dropout in PyTorch is straightforward using the [`nn.Dropout`](https://pytorch.org/docs/stable/nn.html#torch.nn.Dropout) module.\n",
    "\n",
    "```python\n",
    "class Classifier(nn.Module):\n",
    "    def __init__(self):\n",
    "        super().__init__()\n",
    "        self.fc1 = nn.Linear(784, 256)\n",
    "        self.fc2 = nn.Linear(256, 128)\n",
    "        self.fc3 = nn.Linear(128, 64)\n",
    "        self.fc4 = nn.Linear(64, 10)\n",
    "        \n",
    "        # Dropout module with 0.2 drop probability\n",
    "        self.dropout = nn.Dropout(p=0.2)\n",
    "        \n",
    "    def forward(self, x):\n",
    "        # make sure input tensor is flattened\n",
    "        x = x.view(x.shape[0], -1)\n",
    "        \n",
    "        # Now with dropout\n",
    "        x = self.dropout(F.relu(self.fc1(x)))\n",
    "        x = self.dropout(F.relu(self.fc2(x)))\n",
    "        x = self.dropout(F.relu(self.fc3(x)))\n",
    "        \n",
    "        # output so no dropout here\n",
    "        x = F.log_softmax(self.fc4(x), dim=1)\n",
    "        \n",
    "        return x\n",
    "```\n",
    "\n",
    "During training we want to use dropout to prevent overfitting, but during inference we want to use the entire network. So, we need to turn off dropout during validation, testing, and whenever we're using the network to make predictions. To do this, you use `model.eval()`. This sets the model to evaluation mode where the dropout probability is 0. You can turn dropout back on by setting the model to train mode with `model.train()`. In general, the pattern for the validation loop will look like this, where you turn off gradients, set the model to evaluation mode, calculate the validation loss and metric, then set the model back to train mode.\n",
    "\n",
    "```python\n",
    "# turn off gradients\n",
    "with torch.no_grad():\n",
    "    \n",
    "    # set model to evaluation mode\n",
    "    model.eval()\n",
    "    \n",
    "    # validation pass here\n",
    "    for images, labels in testloader:\n",
    "        ...\n",
    "\n",
    "# set model back to train mode\n",
    "model.train()\n",
    "```"
   ]
  },
  {
   "cell_type": "markdown",
   "metadata": {},
   "source": [
    "> **Exercise:** Add dropout to your model and train it on Fashion-MNIST again. See if you can get a lower validation loss or higher accuracy."
   ]
  },
  {
   "cell_type": "code",
   "execution_count": 18,
   "metadata": {},
   "outputs": [],
   "source": [
    "import time"
   ]
  },
  {
   "cell_type": "code",
   "execution_count": 10,
   "metadata": {},
   "outputs": [],
   "source": [
    "## TODO: Define your model with dropout added\n",
    "from torch.nn import functional as F\n",
    "class Network(nn.Module):\n",
    "    def __init__(self):\n",
    "        super().__init__()\n",
    "        self.fc1 = nn.Linear(784,512)\n",
    "        self.fc2 = nn.Linear(512,256)\n",
    "        self.fc3 = nn.Linear(256,128)\n",
    "        self.fc4 = nn.Linear(128,64)\n",
    "        self.fc5 = nn.Linear(64,10)\n",
    "        self.dropout = nn.Dropout(p=0.2)\n",
    "    \n",
    "    def forward(self, x):\n",
    "        x = x.view(x.shape[0],-1) ##forgor again\n",
    "\n",
    "        x = self.dropout(F.relu(self.fc1(x)))\n",
    "        x = self.dropout(F.relu(self.fc2(x)))\n",
    "        x = self.dropout(F.relu(self.fc3(x)))\n",
    "        x = self.dropout(F.relu(self.fc4(x)))\n",
    "        x = F.log_softmax(self.fc5(x), dim=1)\n",
    "        \n",
    "        return x"
   ]
  },
  {
   "cell_type": "code",
   "execution_count": 24,
   "metadata": {},
   "outputs": [
    {
     "output_type": "stream",
     "name": "stdout",
     "text": [
      "Epoch: 1/30..  Train loss: 0.6484..  Test loss: 0.5107..  Test Accuracy: 0.8190.. \n",
      "Epoch: 2/30..  Train loss: 0.5146..  Test loss: 0.4527..  Test Accuracy: 0.8408.. \n",
      "Epoch: 3/30..  Train loss: 0.4847..  Test loss: 0.4441..  Test Accuracy: 0.8464.. \n",
      "Epoch: 4/30..  Train loss: 0.4671..  Test loss: 0.4290..  Test Accuracy: 0.8490.. \n",
      "Epoch: 5/30..  Train loss: 0.4463..  Test loss: 0.4142..  Test Accuracy: 0.8529.. \n",
      "Epoch: 6/30..  Train loss: 0.4369..  Test loss: 0.4202..  Test Accuracy: 0.8515.. \n",
      "Epoch: 7/30..  Train loss: 0.4406..  Test loss: 0.4350..  Test Accuracy: 0.8506.. \n",
      "Epoch: 8/30..  Train loss: 0.4305..  Test loss: 0.3949..  Test Accuracy: 0.8609.. \n",
      "Epoch: 9/30..  Train loss: 0.4185..  Test loss: 0.3888..  Test Accuracy: 0.8572.. \n",
      "Epoch: 10/30..  Train loss: 0.4186..  Test loss: 0.4213..  Test Accuracy: 0.8541.. \n",
      "Epoch: 11/30..  Train loss: 0.4176..  Test loss: 0.3988..  Test Accuracy: 0.8652.. \n",
      "Epoch: 12/30..  Train loss: 0.4160..  Test loss: 0.4162..  Test Accuracy: 0.8567.. \n",
      "Epoch: 13/30..  Train loss: 0.4092..  Test loss: 0.3870..  Test Accuracy: 0.8688.. \n",
      "Epoch: 14/30..  Train loss: 0.4227..  Test loss: 0.4187..  Test Accuracy: 0.8615.. \n",
      "Epoch: 15/30..  Train loss: 0.4056..  Test loss: 0.4189..  Test Accuracy: 0.8538.. \n",
      "Epoch: 16/30..  Train loss: 0.4127..  Test loss: 0.3941..  Test Accuracy: 0.8692.. \n",
      "Epoch: 17/30..  Train loss: 0.4086..  Test loss: 0.3873..  Test Accuracy: 0.8662.. \n",
      "Epoch: 18/30..  Train loss: 0.4060..  Test loss: 0.4123..  Test Accuracy: 0.8564.. \n",
      "Epoch: 19/30..  Train loss: 0.4073..  Test loss: 0.3825..  Test Accuracy: 0.8634.. \n",
      "Epoch: 20/30..  Train loss: 0.4052..  Test loss: 0.4017..  Test Accuracy: 0.8635.. \n",
      "Epoch: 21/30..  Train loss: 0.3961..  Test loss: 0.3948..  Test Accuracy: 0.8713.. \n",
      "Epoch: 22/30..  Train loss: 0.4027..  Test loss: 0.4126..  Test Accuracy: 0.8604.. \n",
      "Epoch: 23/30..  Train loss: 0.4021..  Test loss: 0.4166..  Test Accuracy: 0.8641.. \n",
      "Epoch: 24/30..  Train loss: 0.3946..  Test loss: 0.4095..  Test Accuracy: 0.8625.. \n",
      "Epoch: 25/30..  Train loss: 0.4070..  Test loss: 0.3970..  Test Accuracy: 0.8656.. \n",
      "Epoch: 26/30..  Train loss: 0.3935..  Test loss: 0.3858..  Test Accuracy: 0.8721.. \n",
      "Epoch: 27/30..  Train loss: 0.3996..  Test loss: 0.4313..  Test Accuracy: 0.8608.. \n",
      "Epoch: 28/30..  Train loss: 0.3941..  Test loss: 0.4195..  Test Accuracy: 0.8596.. \n",
      "Epoch: 29/30..  Train loss: 0.4033..  Test loss: 0.4010..  Test Accuracy: 0.8674.. \n",
      "Epoch: 30/30..  Train loss: 0.3973..  Test loss: 0.3881..  Test Accuracy: 0.8716.. \n",
      "Time consumption: 309.067\n"
     ]
    }
   ],
   "source": [
    "## TODO: Train your model with dropout, and monitor the training progress with the validation loss and accuracy\n",
    "device = torch.device(\"cuda:0\")\n",
    "# device = torch.device(\"cpu\")\n",
    "start = time.time()\n",
    "model = Network()\n",
    "model.to(device)\n",
    "criterion = nn.NLLLoss()\n",
    "optimizer = optim.Adam(model.parameters(), lr=0.003)\n",
    "\n",
    "epochs = 30\n",
    "\n",
    "train_losses, test_losses = [],[]\n",
    "for e in range(epochs):\n",
    "    running_loss = 0\n",
    "    model.train() ## turn on dropout for each train epoch\n",
    "    for train_data in trainloader:\n",
    "        images, labels = train_data[0].to(device), train_data[1].to(device)\n",
    "        optimizer.zero_grad()\n",
    "\n",
    "        log_ps = model(images)\n",
    "        loss = criterion(log_ps, labels)\n",
    "        loss.backward()\n",
    "        optimizer.step()\n",
    "\n",
    "        running_loss += loss.item()\n",
    "\n",
    "    else:\n",
    "        accuracy = 0 ##put them here\n",
    "        test_loss = 0\n",
    "\n",
    "        with torch.no_grad():\n",
    "            model.eval() ## turn off the dropout\n",
    "            for test_data in testloader:\n",
    "\n",
    "                images, labels = test_data[0].to(device), test_data[1].to(device)\n",
    "                log_ps = model(images)\n",
    "                test_loss += criterion(log_ps, labels) ## should be +=\n",
    "                ps = torch.exp(log_ps)\n",
    "                top_p, pred = ps.topk(k=1, dim=1)\n",
    "                equals = pred == labels.view(*pred.shape)\n",
    "                accuracy += torch.mean(equals.type(torch.FloatTensor))\n",
    "        \n",
    "         \n",
    "        \n",
    "        train_losses.append(running_loss/len(trainloader))\n",
    "        test_losses.append(test_loss.item()/len(testloader))\n",
    "\n",
    "        print(\"Epoch: {}/{}.. \".format(e+1,epochs),\n",
    "              \"Train loss: {:.4f}.. \".format(running_loss/len(trainloader)),\n",
    "              \"Test loss: {:.4f}.. \".format(test_loss.item()/len(testloader)),\n",
    "              \"Test Accuracy: {:.4f}.. \".format(accuracy/len(testloader)))\n",
    "end = time.time()\n",
    "print(\"Time consumption: {:.3f}\".format(end-start))"
   ]
  },
  {
   "cell_type": "code",
   "execution_count": 25,
   "metadata": {},
   "outputs": [
    {
     "output_type": "execute_result",
     "data": {
      "text/plain": [
       "<matplotlib.legend.Legend at 0x20abca39e08>"
      ]
     },
     "metadata": {},
     "execution_count": 25
    },
    {
     "output_type": "display_data",
     "data": {
      "text/plain": "<Figure size 432x288 with 1 Axes>",
      "image/png": "[encoded data removed]"
     },
     "metadata": {
      "image/png": {
       "width": 380,
       "height": 248
      },
      "needs_background": "light"
     }
    }
   ],
   "source": [
    "%matplotlib inline\n",
    "%config InlineBackend.figure_format = 'retina'\n",
    "\n",
    "import matplotlib.pyplot as plt\n",
    "plt.plot(train_losses, label='Training loss')\n",
    "plt.plot(test_losses, label='Tesing loss')\n",
    "plt.legend(frameon=False)"
   ]
  },
  {
   "cell_type": "markdown",
   "metadata": {},
   "source": [
    "## Inference\n",
    "\n",
    "Now that the model is trained, we can use it for inference. We've done this before, but now we need to remember to set the model in inference mode with `model.eval()`. You'll also want to turn off autograd with the `torch.no_grad()` context."
   ]
  },
  {
   "cell_type": "code",
   "execution_count": 29,
   "metadata": {},
   "outputs": [
    {
     "output_type": "display_data",
     "data": {
      "text/plain": "<Figure size 432x648 with 2 Axes>",
      "image/png": "[encoded data removed]"
     },
     "metadata": {
      "image/png": {
       "width": 424,
       "height": 216
      },
      "needs_background": "light"
     }
    }
   ],
   "source": [
    "# Import helper module (should be in the repo)\n",
    "import helper\n",
    "\n",
    "# Test out your network!\n",
    "model.to(\"cpu\")\n",
    "model.eval()\n",
    "\n",
    "dataiter = iter(testloader)\n",
    "images, labels = dataiter.next()\n",
    "img = images[0]\n",
    "# Convert 2D image to 1D vector\n",
    "img = img.view(1, 784)\n",
    "\n",
    "# Calculate the class probabilities (softmax) for img\n",
    "with torch.no_grad():\n",
    "    output = model.forward(img)\n",
    "\n",
    "ps = torch.exp(output)\n",
    "\n",
    "# Plot the image and probabilities\n",
    "helper.view_classify(img.view(1, 28, 28), ps, version='Fashion')"
   ]
  },
  {
   "cell_type": "markdown",
   "metadata": {},
   "source": [
    "## Next Up!\n",
    "\n",
    "In the next part, I'll show you how to save your trained models. In general, you won't want to train a model everytime you need it. Instead, you'll train once, save it, then load the model when you want to train more or use if for inference."
   ]
  }
 ],
 "metadata": {
  "kernelspec": {
   "display_name": "Python 3",
   "language": "python",
   "name": "python3"
  },
  "language_info": {
   "codemirror_mode": {
    "name": "ipython",
    "version": 3
   },
   "file_extension": ".py",
   "mimetype": "text/x-python",
   "name": "python",
   "nbconvert_exporter": "python",
   "pygments_lexer": "ipython3",
   "version": "3.7.7-final"
  }
 },
 "nbformat": 4,
 "nbformat_minor": 2
}